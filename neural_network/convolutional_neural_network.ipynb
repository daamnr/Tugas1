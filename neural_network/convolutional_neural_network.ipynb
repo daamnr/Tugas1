{
  "nbformat": 4,
  "nbformat_minor": 0,
  "metadata": {
    "colab": {
      "name": "convolutional_neural_network.ipynb",
      "provenance": [],
      "include_colab_link": true
    },
    "kernelspec": {
      "name": "python3",
      "display_name": "Python 3"
    },
    "language_info": {
      "name": "python"
    }
  },
  "cells": [
    {
      "cell_type": "markdown",
      "metadata": {
        "id": "view-in-github",
        "colab_type": "text"
      },
      "source": [
        "<a href=\"https://colab.research.google.com/github/daamnr/Tugas1/blob/main/neural_network/convolutional_neural_network.ipynb\" target=\"_parent\"><img src=\"https://colab.research.google.com/assets/colab-badge.svg\" alt=\"Open In Colab\"/></a>"
      ]
    },
    {
      "cell_type": "code",
      "metadata": {
        "colab": {
          "base_uri": "https://localhost:8080/"
        },
        "id": "TYG8HEb3Dkpa",
        "outputId": "7666b8db-11ca-4d35-e248-9e9864608a23"
      },
      "source": [
        "# Download dataset\n",
        "!wget --no-check-certificate \\\n",
        "    https://raw.githubusercontent.com/daamnr/Tugas1/main/Daun_Jambu_Biji_and_Daun_Pepaya_filtered.zip \\\n",
        "    -O /tmp/Daun_Jambu_Biji_and_Daun_Pepaya_filtered.zip"
      ],
      "execution_count": 1,
      "outputs": [
        {
          "output_type": "stream",
          "name": "stdout",
          "text": [
            "--2021-11-15 05:31:42--  https://raw.githubusercontent.com/daamnr/Tugas1/main/Daun_Jambu_Biji_and_Daun_Pepaya_filtered.zip\n",
            "Resolving raw.githubusercontent.com (raw.githubusercontent.com)... 185.199.108.133, 185.199.109.133, 185.199.110.133, ...\n",
            "Connecting to raw.githubusercontent.com (raw.githubusercontent.com)|185.199.108.133|:443... connected.\n",
            "HTTP request sent, awaiting response... 200 OK\n",
            "Length: 13623683 (13M) [application/zip]\n",
            "Saving to: ‘/tmp/Daun_Jambu_Biji_and_Daun_Pepaya_filtered.zip’\n",
            "\n",
            "\r          /tmp/Daun   0%[                    ]       0  --.-KB/s               \r/tmp/Daun_Jambu_Bij 100%[===================>]  12.99M  --.-KB/s    in 0.07s   \n",
            "\n",
            "2021-11-15 05:31:42 (194 MB/s) - ‘/tmp/Daun_Jambu_Biji_and_Daun_Pepaya_filtered.zip’ saved [13623683/13623683]\n",
            "\n"
          ]
        }
      ]
    },
    {
      "cell_type": "code",
      "metadata": {
        "id": "4rtnNrFsEDIf"
      },
      "source": [
        "# Ekstrak dataset\n",
        "\n",
        "import os\n",
        "import zipfile\n",
        "\n",
        "local_zip = '/tmp/Daun_Jambu_Biji_and_Daun_Pepaya_filtered.zip'\n",
        "zip_ref = zipfile.ZipFile(local_zip, 'r')\n",
        "zip_ref.extractall('/tmp')\n",
        "zip_ref.close()"
      ],
      "execution_count": 2,
      "outputs": []
    },
    {
      "cell_type": "code",
      "metadata": {
        "id": "y9L_1kqnEEjc"
      },
      "source": [
        "# Definisikan path untuk data train dan data validation\n",
        "\n",
        "base_dir = '/tmp/Daun_Jambu_Biji_and_Daun_Pepaya_filtered'\n",
        "\n",
        "train_dir = os.path.join(base_dir, 'train')\n",
        "validation_dir = os.path.join(base_dir, 'validation')"
      ],
      "execution_count": 3,
      "outputs": []
    },
    {
      "cell_type": "code",
      "metadata": {
        "id": "9gc0BCSREF0M"
      },
      "source": [
        "import cv2\n",
        "import numpy as np\n",
        "\n",
        "# Gather data train\n",
        "train_data = []\n",
        "train_label = []\n",
        "for r, d, f in os.walk(train_dir):\n",
        "    for file in f:\n",
        "        if \".jpg\" in file:\n",
        "            imagePath = os.path.join(r, file)\n",
        "            image = cv2.imread(imagePath)\n",
        "            image = cv2.resize(image, (150,150))\n",
        "            train_data.append(image)\n",
        "            label = imagePath.split(os.path.sep)[-2]\n",
        "            train_label.append(label)\n",
        "\n",
        "train_data = np.array(train_data)\n",
        "train_label = np.array(train_label)"
      ],
      "execution_count": 4,
      "outputs": []
    },
    {
      "cell_type": "code",
      "metadata": {
        "id": "FuoKFhhVEG_O"
      },
      "source": [
        "# Gather data validation\n",
        "val_data = []\n",
        "val_label = []\n",
        "for r, d, f in os.walk(validation_dir):\n",
        "    for file in f:\n",
        "        if \".jpg\" in file:\n",
        "            imagePath = os.path.join(r, file)\n",
        "            image = cv2.imread(imagePath)\n",
        "            image = cv2.resize(image, (150,150))\n",
        "            val_data.append(image)\n",
        "            label = imagePath.split(os.path.sep)[-2]\n",
        "            val_label.append(label)\n",
        "\n",
        "val_data = np.array(val_data)\n",
        "val_label = np.array(val_label)"
      ],
      "execution_count": 5,
      "outputs": []
    },
    {
      "cell_type": "markdown",
      "metadata": {
        "id": "kiXbwrN3ELqv"
      },
      "source": [
        "<h3>Data Preprocessing</h3>"
      ]
    },
    {
      "cell_type": "code",
      "metadata": {
        "colab": {
          "base_uri": "https://localhost:8080/"
        },
        "id": "m5VhnvtrEI1I",
        "outputId": "e1d2db2f-56de-48e4-aa4d-5b4c089485d3"
      },
      "source": [
        "# Tampilkan shape dari data train dan data validation\n",
        "print(\"Train Data = \", train_data.shape)\n",
        "print(\"Train Label = \", train_label.shape)\n",
        "print(\"Validation Data = \", val_data.shape)\n",
        "print(\"Validation Label = \", val_label.shape)"
      ],
      "execution_count": 6,
      "outputs": [
        {
          "output_type": "stream",
          "name": "stdout",
          "text": [
            "Train Data =  (80, 150, 150, 3)\n",
            "Train Label =  (80,)\n",
            "Validation Data =  (20, 150, 150, 3)\n",
            "Validation Label =  (20,)\n"
          ]
        }
      ]
    },
    {
      "cell_type": "code",
      "metadata": {
        "colab": {
          "base_uri": "https://localhost:8080/"
        },
        "id": "q1LVp6dCENne",
        "outputId": "7deab118-67bb-4971-ac01-26a2c8b33821"
      },
      "source": [
        "# Normalisasi dataset\n",
        "print(\"Data sebelum di-normalisasi \", train_data[0][0][0])\n",
        "\n",
        "x_train = train_data.astype('float32') / 255.0\n",
        "x_val = val_data.astype('float32') / 255.0\n",
        "print(\"Data setelah di-normalisasi \", x_train[0][0][0])"
      ],
      "execution_count": 7,
      "outputs": [
        {
          "output_type": "stream",
          "name": "stdout",
          "text": [
            "Data sebelum di-normalisasi  [255 255 255]\n",
            "Data setelah di-normalisasi  [1. 1. 1.]\n"
          ]
        }
      ]
    },
    {
      "cell_type": "code",
      "metadata": {
        "colab": {
          "base_uri": "https://localhost:8080/"
        },
        "id": "tc7FivC6EPhm",
        "outputId": "f1ae5564-35a1-4113-9a55-ab83027af9eb"
      },
      "source": [
        "# Transformasi label encoder\n",
        "from sklearn.preprocessing import LabelEncoder\n",
        "\n",
        "print(\"Label sebelum di-encoder \", train_label[35:45])\n",
        "\n",
        "lb = LabelEncoder()\n",
        "y_train = lb.fit_transform(train_label)\n",
        "y_val = lb.fit_transform(val_label)\n",
        "\n",
        "print(\"Label setelah di-encoder \", y_train[35:45])"
      ],
      "execution_count": 8,
      "outputs": [
        {
          "output_type": "stream",
          "name": "stdout",
          "text": [
            "Label sebelum di-encoder  ['Daun pepaya' 'Daun pepaya' 'Daun pepaya' 'Daun pepaya' 'Daun pepaya'\n",
            " 'Daun jambu biji' 'Daun jambu biji' 'Daun jambu biji' 'Daun jambu biji'\n",
            " 'Daun jambu biji']\n",
            "Label setelah di-encoder  [1 1 1 1 1 0 0 0 0 0]\n"
          ]
        }
      ]
    },
    {
      "cell_type": "markdown",
      "metadata": {
        "id": "4jVWbOhOEzQJ"
      },
      "source": [
        "<h3>Definisikan Model</h3>"
      ]
    },
    {
      "cell_type": "code",
      "metadata": {
        "id": "usLiFiwAEvVb"
      },
      "source": [
        "from tensorflow.keras.models import Sequential\n",
        "from tensorflow.keras.layers import InputLayer, Dense, Conv2D, MaxPool2D, Flatten"
      ],
      "execution_count": 9,
      "outputs": []
    },
    {
      "cell_type": "code",
      "metadata": {
        "id": "rDwzxacpE1ei"
      },
      "source": [
        "# Feature Extraction Layer\n",
        "model = Sequential()\n",
        "\n",
        "model.add(InputLayer(input_shape=[150,150,3]))\n",
        "model.add(Conv2D(filters=16, kernel_size=3, strides=1, padding='same', activation='relu'))\n",
        "model.add(MaxPool2D(pool_size=2, padding='same'))\n",
        "model.add(Conv2D(filters=32, kernel_size=3, strides=1, padding='same', activation='relu'))\n",
        "model.add(MaxPool2D(pool_size=2, padding='same'))\n",
        "model.add(Conv2D(filters=64, kernel_size=3, strides=1, padding='same', activation='relu'))\n",
        "model.add(MaxPool2D(pool_size=2, padding='same'))\n",
        "model.add(Flatten())"
      ],
      "execution_count": 10,
      "outputs": []
    },
    {
      "cell_type": "code",
      "metadata": {
        "id": "Sud1AUF0E2k8"
      },
      "source": [
        "# Fully Connected Layer\n",
        "model.add(Dense(128, activation='relu'))\n",
        "model.add(Dense(1, activation='sigmoid'))"
      ],
      "execution_count": 11,
      "outputs": []
    },
    {
      "cell_type": "code",
      "metadata": {
        "colab": {
          "base_uri": "https://localhost:8080/"
        },
        "id": "XW-KE9ePE466",
        "outputId": "465c202e-5728-4d93-931f-6c160b7235a7"
      },
      "source": [
        "# Print model summary\n",
        "print(model.summary())"
      ],
      "execution_count": 12,
      "outputs": [
        {
          "output_type": "stream",
          "name": "stdout",
          "text": [
            "Model: \"sequential\"\n",
            "_________________________________________________________________\n",
            " Layer (type)                Output Shape              Param #   \n",
            "=================================================================\n",
            " conv2d (Conv2D)             (None, 150, 150, 16)      448       \n",
            "                                                                 \n",
            " max_pooling2d (MaxPooling2D  (None, 75, 75, 16)       0         \n",
            " )                                                               \n",
            "                                                                 \n",
            " conv2d_1 (Conv2D)           (None, 75, 75, 32)        4640      \n",
            "                                                                 \n",
            " max_pooling2d_1 (MaxPooling  (None, 38, 38, 32)       0         \n",
            " 2D)                                                             \n",
            "                                                                 \n",
            " conv2d_2 (Conv2D)           (None, 38, 38, 64)        18496     \n",
            "                                                                 \n",
            " max_pooling2d_2 (MaxPooling  (None, 19, 19, 64)       0         \n",
            " 2D)                                                             \n",
            "                                                                 \n",
            " flatten (Flatten)           (None, 23104)             0         \n",
            "                                                                 \n",
            " dense (Dense)               (None, 128)               2957440   \n",
            "                                                                 \n",
            " dense_1 (Dense)             (None, 1)                 129       \n",
            "                                                                 \n",
            "=================================================================\n",
            "Total params: 2,981,153\n",
            "Trainable params: 2,981,153\n",
            "Non-trainable params: 0\n",
            "_________________________________________________________________\n",
            "None\n"
          ]
        }
      ]
    },
    {
      "cell_type": "code",
      "metadata": {
        "colab": {
          "base_uri": "https://localhost:8080/"
        },
        "id": "Tais64D7E5Zo",
        "outputId": "e6fac8b0-247a-486e-b6b3-6c3d5831c5b8"
      },
      "source": [
        "# Compile model\n",
        "from tensorflow.keras.optimizers import Adam\n",
        "\n",
        "model.compile(optimizer=Adam(lr=0.001), \n",
        "              loss='binary_crossentropy', \n",
        "              metrics=['acc'])"
      ],
      "execution_count": 13,
      "outputs": [
        {
          "output_type": "stream",
          "name": "stderr",
          "text": [
            "/usr/local/lib/python3.7/dist-packages/keras/optimizer_v2/adam.py:105: UserWarning: The `lr` argument is deprecated, use `learning_rate` instead.\n",
            "  super(Adam, self).__init__(name, **kwargs)\n"
          ]
        }
      ]
    },
    {
      "cell_type": "markdown",
      "metadata": {
        "id": "NTNBH19iE8kt"
      },
      "source": [
        "<h3>Training Model</h3>"
      ]
    },
    {
      "cell_type": "code",
      "metadata": {
        "colab": {
          "base_uri": "https://localhost:8080/"
        },
        "id": "p4Vr8dyvE6pM",
        "outputId": "bde6a147-b480-457f-c821-5e6fcf84ae96"
      },
      "source": [
        "H = model.fit(x_train, y_train, batch_size=20, epochs=15, validation_data=(x_val, y_val))"
      ],
      "execution_count": 14,
      "outputs": [
        {
          "output_type": "stream",
          "name": "stdout",
          "text": [
            "Epoch 1/15\n",
            "4/4 [==============================] - 3s 498ms/step - loss: 1.7755 - acc: 0.4500 - val_loss: 0.9510 - val_acc: 0.5000\n",
            "Epoch 2/15\n",
            "4/4 [==============================] - 2s 437ms/step - loss: 0.7225 - acc: 0.6000 - val_loss: 0.5503 - val_acc: 0.5000\n",
            "Epoch 3/15\n",
            "4/4 [==============================] - 2s 431ms/step - loss: 0.4965 - acc: 0.5375 - val_loss: 0.3389 - val_acc: 1.0000\n",
            "Epoch 4/15\n",
            "4/4 [==============================] - 2s 430ms/step - loss: 0.2665 - acc: 1.0000 - val_loss: 0.1232 - val_acc: 1.0000\n",
            "Epoch 5/15\n",
            "4/4 [==============================] - 2s 431ms/step - loss: 0.0926 - acc: 1.0000 - val_loss: 0.0611 - val_acc: 1.0000\n",
            "Epoch 6/15\n",
            "4/4 [==============================] - 2s 432ms/step - loss: 0.0260 - acc: 1.0000 - val_loss: 0.0077 - val_acc: 1.0000\n",
            "Epoch 7/15\n",
            "4/4 [==============================] - 2s 432ms/step - loss: 0.0082 - acc: 1.0000 - val_loss: 0.0039 - val_acc: 1.0000\n",
            "Epoch 8/15\n",
            "4/4 [==============================] - 2s 430ms/step - loss: 0.0073 - acc: 1.0000 - val_loss: 7.2324e-04 - val_acc: 1.0000\n",
            "Epoch 9/15\n",
            "4/4 [==============================] - 2s 433ms/step - loss: 2.7789e-04 - acc: 1.0000 - val_loss: 3.2111e-05 - val_acc: 1.0000\n",
            "Epoch 10/15\n",
            "4/4 [==============================] - 2s 435ms/step - loss: 9.7217e-04 - acc: 1.0000 - val_loss: 8.8234e-05 - val_acc: 1.0000\n",
            "Epoch 11/15\n",
            "4/4 [==============================] - 2s 434ms/step - loss: 4.2713e-04 - acc: 1.0000 - val_loss: 8.2241e-06 - val_acc: 1.0000\n",
            "Epoch 12/15\n",
            "4/4 [==============================] - 2s 438ms/step - loss: 5.4129e-05 - acc: 1.0000 - val_loss: 2.3476e-06 - val_acc: 1.0000\n",
            "Epoch 13/15\n",
            "4/4 [==============================] - 2s 431ms/step - loss: 7.9272e-06 - acc: 1.0000 - val_loss: 5.4918e-06 - val_acc: 1.0000\n",
            "Epoch 14/15\n",
            "4/4 [==============================] - 2s 442ms/step - loss: 2.1585e-05 - acc: 1.0000 - val_loss: 1.0773e-05 - val_acc: 1.0000\n",
            "Epoch 15/15\n",
            "4/4 [==============================] - 2s 434ms/step - loss: 3.5149e-05 - acc: 1.0000 - val_loss: 9.8235e-06 - val_acc: 1.0000\n"
          ]
        }
      ]
    },
    {
      "cell_type": "markdown",
      "metadata": {
        "id": "HuxjW35RFCZ6"
      },
      "source": [
        "<h3>Evaluasi Model</h3>"
      ]
    },
    {
      "cell_type": "code",
      "metadata": {
        "colab": {
          "base_uri": "https://localhost:8080/",
          "height": 299
        },
        "id": "1AM3ms3zE_AU",
        "outputId": "f9ebb7dc-b06b-46a8-e4d3-051d33fa9dfa"
      },
      "source": [
        "%matplotlib inline\n",
        "\n",
        "import matplotlib.pyplot as plt\n",
        "\n",
        "plt.style.use(\"ggplot\")\n",
        "plt.figure()\n",
        "plt.plot(np.arange(0, 15), H.history[\"loss\"], label=\"train_loss\")\n",
        "plt.plot(np.arange(0, 15), H.history[\"val_loss\"], label=\"val_loss\")\n",
        "plt.title(\"Loss Plot\")\n",
        "plt.xlabel(\"Epoch #\")\n",
        "plt.ylabel(\"Loss\")\n",
        "plt.legend()\n",
        "plt.show()"
      ],
      "execution_count": 15,
      "outputs": [
        {
          "output_type": "display_data",
          "data": {
            "image/png": "[encoded data removed]",
            "text/plain": [
              "<Figure size 432x288 with 1 Axes>"
            ]
          },
          "metadata": {}
        }
      ]
    },
    {
      "cell_type": "code",
      "metadata": {
        "colab": {
          "base_uri": "https://localhost:8080/",
          "height": 299
        },
        "id": "q1SJWudcFEDL",
        "outputId": "3cb7c0a7-2525-4977-b989-2e0fb9635c9f"
      },
      "source": [
        "plt.style.use(\"ggplot\")\n",
        "plt.figure()\n",
        "plt.plot(np.arange(0, 15), H.history[\"acc\"], label=\"train_acc\")\n",
        "plt.plot(np.arange(0, 15), H.history[\"val_acc\"], label=\"val_acc\")\n",
        "plt.title(\"Accuracy Plot\")\n",
        "plt.xlabel(\"Epoch #\")\n",
        "plt.ylabel(\"Acc\")\n",
        "plt.legend()\n",
        "plt.show()"
      ],
      "execution_count": 16,
      "outputs": [
        {
          "output_type": "display_data",
          "data": {
            "image/png": "[encoded data removed]",
            "text/plain": [
              "<Figure size 432x288 with 1 Axes>"
            ]
          },
          "metadata": {}
        }
      ]
    },
    {
      "cell_type": "code",
      "metadata": {
        "colab": {
          "base_uri": "https://localhost:8080/"
        },
        "id": "H_8mB3igFG-x",
        "outputId": "d6f9e41a-470c-46d5-9606-b28bb1e21739"
      },
      "source": [
        "from sklearn.metrics import classification_report\n",
        "\n",
        "pred = model.predict(x_val)\n",
        "labels = (pred > 0.5).astype(np.int)\n",
        "\n",
        "print(classification_report(y_val, labels))"
      ],
      "execution_count": 17,
      "outputs": [
        {
          "output_type": "stream",
          "name": "stdout",
          "text": [
            "              precision    recall  f1-score   support\n",
            "\n",
            "           0       1.00      1.00      1.00        10\n",
            "           1       1.00      1.00      1.00        10\n",
            "\n",
            "    accuracy                           1.00        20\n",
            "   macro avg       1.00      1.00      1.00        20\n",
            "weighted avg       1.00      1.00      1.00        20\n",
            "\n"
          ]
        }
      ]
    }
  ]
}